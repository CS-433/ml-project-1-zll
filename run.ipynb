{
 "cells": [
  {
   "cell_type": "code",
   "execution_count": 2,
   "id": "794d7a2a-3833-4800-880c-5b10480d877e",
   "metadata": {},
   "outputs": [],
   "source": [
    "%matplotlib inline\n",
    "import csv\n",
    "import numpy as np\n",
    "import matplotlib.pyplot as plt\n",
    "%load_ext autoreload\n",
    "%autoreload 2\n",
    "\n",
    "from implementations import *"
   ]
  },
  {
   "cell_type": "code",
   "execution_count": 3,
   "id": "f58c869f-254b-4d71-8134-e138a2b24c00",
   "metadata": {},
   "outputs": [],
   "source": [
    "from helpers import load_csv_data\n",
    "from helpers import create_csv_submission\n",
    "\n",
    "# load dataset\n",
    "y_train, tx_train, ids_train = load_csv_data(\"train.csv\")\n",
    "y_test, tx_test, ids_test = load_csv_data(\"test.csv\")"
   ]
  },
  {
   "cell_type": "code",
   "execution_count": null,
   "id": "43bdc192-0d96-4884-887d-54294a411afb",
   "metadata": {},
   "outputs": [],
   "source": [
    "# extract usable data                TBD\n",
    "y_train, tx_train, ids_train\n",
    "y_test, tx_test, ids_test"
   ]
  },
  {
   "cell_type": "code",
   "execution_count": 8,
   "id": "bbe123c0-0434-4f76-83dc-298592172282",
   "metadata": {},
   "outputs": [
    {
     "data": {
      "text/plain": [
       "((30, 1), (100, 30))"
      ]
     },
     "execution_count": 8,
     "metadata": {},
     "output_type": "execute_result"
    }
   ],
   "source": [
    "y_train = y_train[0:100].reshape(100,1)\n",
    "tx_train = tx_train[0:100]\n",
    "tx_test = tx_test[0:100]\n",
    "ids_test = ids_test[1:100]\n",
    "\n",
    "# set the parameters\n",
    "initial_w = np.array([[0] for i in range(np.shape(tx_train)[1])])\n",
    "lambda_ = 1\n",
    "max_iters = 1\n",
    "gamma = 0.1\n",
    "\n",
    "np.shape(initial_w), np.shape(tx_train)"
   ]
  },
  {
   "cell_type": "code",
   "execution_count": 12,
   "id": "9204cb13-eb44-473c-8702-35289892c396",
   "metadata": {},
   "outputs": [
    {
     "name": "stdout",
     "output_type": "stream",
     "text": [
      "Average loss with Gradient Descent(GD):  12661712337.983372\n"
     ]
    }
   ],
   "source": [
    "w, loss = mean_squared_error_gd(y_train, tx_train, initial_w, max_iters, gamma)\n",
    "predictions = predict_labels(w, tx_test)\n",
    "create_csv_submission(ids_test, predictions, \"submission_mean_squared_error_gd.csv\")"
   ]
  },
  {
   "cell_type": "code",
   "execution_count": 13,
   "id": "00081264-d34a-4663-8df2-6679a68eb9d6",
   "metadata": {},
   "outputs": [
    {
     "name": "stdout",
     "output_type": "stream",
     "text": [
      "Average loss with Stochastic Gradient Descent(SGD):  132614351308.2606\n"
     ]
    }
   ],
   "source": [
    "w, loss = mean_squared_error_sgd(y_train, tx_train, initial_w, max_iters, gamma)\n",
    "predictions = predict_labels(w, tx_test)\n",
    "create_csv_submission(ids_test, predictions, \"submission_mean_squared_error_sgd.csv\")"
   ]
  },
  {
   "cell_type": "code",
   "execution_count": 14,
   "id": "150e22ad-4458-4f04-913c-e2b467e97078",
   "metadata": {},
   "outputs": [
    {
     "name": "stdout",
     "output_type": "stream",
     "text": [
      "Loss with Least Square:  0.20789887509370011\n"
     ]
    }
   ],
   "source": [
    "w, loss = least_squares(y_train, tx_train)\n",
    "predictions = predict_labels(w, tx_test)\n",
    "create_csv_submission(ids_test, predictions, \"submission_least_squares.csv\")"
   ]
  },
  {
   "cell_type": "code",
   "execution_count": 15,
   "id": "03c4eb71-bf9e-4220-8b6f-005417c0a9dd",
   "metadata": {},
   "outputs": [
    {
     "name": "stdout",
     "output_type": "stream",
     "text": [
      "Loss with Ridge Regression:  0.24139847575826892\n"
     ]
    }
   ],
   "source": [
    "w, loss = ridge_regression(y_train, tx_train, lambda_)\n",
    "predictions = predict_labels(w, tx_test)\n",
    "create_csv_submission(ids_test, predictions, \"submission_ridge_regression.csv\")"
   ]
  },
  {
   "cell_type": "code",
   "execution_count": 18,
   "id": "f018e3dd-eb9d-4c81-a92a-92b0d89bbd5d",
   "metadata": {},
   "outputs": [
    {
     "name": "stdout",
     "output_type": "stream",
     "text": [
      "Average loss with Gradient Descent(GD) using Logistic Regression:  nan\n"
     ]
    }
   ],
   "source": [
    "w, loss = logistic_regression(y_train, tx_train, initial_w, max_iters, gamma)\n",
    "predictions = predict_labels(w, tx_test)\n",
    "create_csv_submission(ids_test, predictions, \"submission_logistic_regression.csv\")"
   ]
  },
  {
   "cell_type": "code",
   "execution_count": 17,
   "id": "7ee2752f-c397-4679-bb9b-dd627f59a971",
   "metadata": {},
   "outputs": [
    {
     "name": "stdout",
     "output_type": "stream",
     "text": [
      "Average loss with Gradient Descent(GD) using Regularized Logistic Regression:  0.6931471805599441\n"
     ]
    }
   ],
   "source": [
    "w, loss = reg_logistic_regression(y_train, tx_train, lambda_, initial_w, max_iters, gamma)\n",
    "predictions = predict_labels(w, tx_test)\n",
    "create_csv_submission(ids_test, predictions, \"submission_reg_logistic_regression.csv\")"
   ]
  },
  {
   "cell_type": "code",
   "execution_count": 38,
   "id": "3e2da616-c07e-4aa4-a2f2-52b69fd51392",
   "metadata": {},
   "outputs": [],
   "source": []
  },
  {
   "cell_type": "code",
   "execution_count": null,
   "id": "d117846c-209a-414c-ab15-4d70ab901d0c",
   "metadata": {},
   "outputs": [],
   "source": [
    "\n"
   ]
  }
 ],
 "metadata": {
  "kernelspec": {
   "display_name": "Python",
   "language": "python",
   "name": "python3"
  },
  "language_info": {
   "codemirror_mode": {
    "name": "ipython",
    "version": 3
   },
   "file_extension": ".py",
   "mimetype": "text/x-python",
   "name": "python",
   "nbconvert_exporter": "python",
   "pygments_lexer": "ipython3",
   "version": "3.8.10"
  }
 },
 "nbformat": 4,
 "nbformat_minor": 5
}
